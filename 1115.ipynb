{
  "nbformat": 4,
  "nbformat_minor": 0,
  "metadata": {
    "colab": {
      "provenance": [],
      "authorship_tag": "ABX9TyNKPZEDQBHJuN+4o3GYqOSs",
      "include_colab_link": true
    },
    "kernelspec": {
      "name": "python3",
      "display_name": "Python 3"
    },
    "language_info": {
      "name": "python"
    }
  },
  "cells": [
    {
      "cell_type": "markdown",
      "metadata": {
        "id": "view-in-github",
        "colab_type": "text"
      },
      "source": [
        "<a href=\"https://colab.research.google.com/github/Leonaaaaaaaaa/TKU-AI-411570095/blob/main/1115.ipynb\" target=\"_parent\"><img src=\"https://colab.research.google.com/assets/colab-badge.svg\" alt=\"Open In Colab\"/></a>"
      ]
    },
    {
      "cell_type": "code",
      "execution_count": 6,
      "metadata": {
        "colab": {
          "base_uri": "https://localhost:8080/"
        },
        "id": "HPZ2FW9AR5Qi",
        "outputId": "ea82af53-36d3-4a18-d99d-4bf5630f7c3f"
      },
      "outputs": [
        {
          "output_type": "stream",
          "name": "stdout",
          "text": [
            "Hi,python\n"
          ]
        }
      ],
      "source": [
        "print(\"Hi,python\")\n"
      ]
    },
    {
      "cell_type": "code",
      "source": [
        "print(\"今天是11月15日\")\n"
      ],
      "metadata": {
        "colab": {
          "base_uri": "https://localhost:8080/"
        },
        "id": "HG5MAvc8Srej",
        "outputId": "8b256546-9fc2-4a4a-835a-52d1f67b1546"
      },
      "execution_count": 7,
      "outputs": [
        {
          "output_type": "stream",
          "name": "stdout",
          "text": [
            "今天是11月15日\n"
          ]
        }
      ]
    },
    {
      "cell_type": "code",
      "source": [
        "print(\"劉乙璇，411570095\")"
      ],
      "metadata": {
        "colab": {
          "base_uri": "https://localhost:8080/"
        },
        "id": "1eKUhhJxStDh",
        "outputId": "ba4597af-c967-411a-c781-16a72043d245"
      },
      "execution_count": 8,
      "outputs": [
        {
          "output_type": "stream",
          "name": "stdout",
          "text": [
            "劉乙璇，411570095\n"
          ]
        }
      ]
    }
  ]
}